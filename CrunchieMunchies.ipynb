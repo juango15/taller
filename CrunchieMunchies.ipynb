{
  "cells": [
    {
      "cell_type": "markdown",
      "metadata": {
        "id": "view-in-github",
        "colab_type": "text"
      },
      "source": [
        "<a href=\"https://colab.research.google.com/github/juango15/taller/blob/main/CrunchieMunchies.ipynb\" target=\"_parent\"><img src=\"https://colab.research.google.com/assets/colab-badge.svg\" alt=\"Open In Colab\"/></a>"
      ]
    },
    {
      "cell_type": "code",
      "execution_count": 7,
      "metadata": {
        "colab": {
          "base_uri": "https://localhost:8080/"
        },
        "id": "HJOi9F6L8GSw",
        "outputId": "a3b7aafb-d66d-479e-a52d-2aca46a3ec46"
      },
      "outputs": [
        {
          "output_type": "stream",
          "name": "stdout",
          "text": [
            "CrunchieMunchies tiene 46.9 calorías menos que el promedio. \n",
            "\n",
            "Calorias promedio: 106.88311688311688\n",
            "\n",
            "Mediana de calorías: 110.0\n",
            "\n",
            "El percentil 4%: 70.0 calorias\n",
            "\n",
            "El 96.1038961038961% de cereales tienen más de 60 calorías por porción.\n",
            "\n",
            "Desviación estándar de las calorías: 19.35718533390827\n"
          ]
        }
      ],
      "source": [
        "import numpy as np\n",
        "\n",
        "calorie_stats = np.genfromtxt('https://docs.google.com/spreadsheets/d/e/2PACX-1vR9TPfSyINHLPxCPjE-TZJs2oVoJFKYtBqnhDkQ7UKaicB7XtTD4jg3cAvypOs_eTT4iWt6v2zKOyne/pub?gid=32330190&single=true&output=csv', delimiter =\",\")\n",
        "averange_calories = np.mean(calorie_stats)\n",
        "prom_calories= np.array(calorie_stats)\n",
        "median_calories = np.median(calorie_stats)\n",
        "calorie_stats_sorted = np.sort(calorie_stats)\n",
        "nth_percentile = None\n",
        "\n",
        "for i in range(100):\n",
        "  percentile_value = np.percentile(calorie_stats, i)\n",
        "  if percentile_value > 60:\n",
        "    break\n",
        "\n",
        "more_than_60 = np.sum(prom_calories > 60)\n",
        "total_cereales = len(prom_calories)\n",
        "more_calories = (more_than_60 / total_cereales) * 100\n",
        "more_calories = np.mean(calorie_stats > 60) * 100\n",
        "calorie_std = np.std(calorie_stats)\n",
        "\n",
        "print(f\"CrunchieMunchies tiene {round((averange_calories-60), 1)} calorías menos que el promedio. \")\n",
        "print( )\n",
        "print(\"Calorias promedio:\", np.mean(prom_calories))\n",
        "print( )\n",
        "print(\"Mediana de calorías:\", median_calories)\n",
        "print( )\n",
        "print(f\"El percentil {i}%: {percentile_value} calorias\")\n",
        "print( )\n",
        "print(f\"El { more_calories}% de cereales tienen más de 60 calorías por porción.\")\n",
        "print( )\n",
        "print(\"Desviación estándar de las calorías:\", calorie_std)\n"
      ]
    },
    {
      "cell_type": "markdown",
      "source": [
        "#Juan Pablo Gonzalez Cedeño\n",
        "\n",
        "## 000541756"
      ],
      "metadata": {
        "id": "NXcl9J0gnW1O"
      }
    }
  ],
  "metadata": {
    "colab": {
      "provenance": [],
      "authorship_tag": "ABX9TyMYtl2FC7P9dqrWP1FTlHDh",
      "include_colab_link": true
    },
    "kernelspec": {
      "display_name": "Python 3",
      "name": "python3"
    },
    "language_info": {
      "name": "python"
    }
  },
  "nbformat": 4,
  "nbformat_minor": 0
}